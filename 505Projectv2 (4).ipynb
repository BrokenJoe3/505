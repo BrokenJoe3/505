{
 "cells": [
  {
   "cell_type": "code",
   "execution_count": 219,
   "id": "984d9d0e-cd9a-4901-9ce7-e87b4556f6a7",
   "metadata": {},
   "outputs": [],
   "source": [
    "import pandas as pd"
   ]
  },
  {
   "cell_type": "code",
   "execution_count": 221,
   "id": "05558750-a127-47fe-83e3-ba747b57af51",
   "metadata": {},
   "outputs": [],
   "source": [
    "df = pd.read_csv(\"Assessor_Parcel_Sales.csv\")"
   ]
  },
  {
   "cell_type": "code",
   "execution_count": 222,
   "id": "900c412e-9252-41c7-bea4-6458a852b641",
   "metadata": {},
   "outputs": [
    {
     "name": "stdout",
     "output_type": "stream",
     "text": [
      "Dataset preview:\n",
      "            pin  year  township_code  neighborhood_code class  \\\n",
      "0  3.101210e+13  2000             32              32050   278   \n",
      "1  1.429100e+13  2000             73              73150   299   \n",
      "2  1.316410e+13  2000             71              71101   203   \n",
      "3  2.423300e+13  2014             39              39250   100   \n",
      "4  1.935400e+13  2016             72              72200   205   \n",
      "\n",
      "          sale_date  is_mydec_date  sale_price  sale_document_num  \\\n",
      "0     April 01 2000          False      177500             317676   \n",
      "1  February 01 2000          False      315000             326770   \n",
      "2      June 01 2000          False      192000             519440   \n",
      "3      June 01 2014          False         500         1427529079   \n",
      "4    August 01 2016          False           1         1625129009   \n",
      "\n",
      "  sale_deed_type mydec_deed_type sale_seller_name  is_multisale  \\\n",
      "0        Trustee             NaN              NaN         False   \n",
      "1       Warranty             NaN              NaN         False   \n",
      "2       Warranty             NaN              NaN         False   \n",
      "3          Other             NaN          US BANK         False   \n",
      "4       Warranty             NaN              NaN          True   \n",
      "\n",
      "   num_parcels_sale     sale_buyer_name          sale_type  \\\n",
      "0                 1                 NaN  LAND AND BUILDING   \n",
      "1                 1                 NaN  LAND AND BUILDING   \n",
      "2                 1                 NaN  LAND AND BUILDING   \n",
      "3                 1  MY OWN DOMINION LP               LAND   \n",
      "4                 5                 NaN  LAND AND BUILDING   \n",
      "\n",
      "   sale_filter_same_sale_within_365  sale_filter_less_than_10k  \\\n",
      "0                             False                      False   \n",
      "1                             False                      False   \n",
      "2                             False                      False   \n",
      "3                             False                       True   \n",
      "4                              True                       True   \n",
      "\n",
      "   sale_filter_deed_type    row_id  \n",
      "0                  False  96289215  \n",
      "1                  False  97142869  \n",
      "2                  False  96585660  \n",
      "3                  False  96639542  \n",
      "4                  False  98154864  \n"
     ]
    }
   ],
   "source": [
    "print(\"Dataset preview:\")\n",
    "print(df.head())"
   ]
  },
  {
   "cell_type": "code",
   "execution_count": 223,
   "id": "07a3dd2f-568c-4597-8d30-5dc7c32c6c65",
   "metadata": {},
   "outputs": [
    {
     "name": "stdout",
     "output_type": "stream",
     "text": [
      "\n",
      "Dataset has 1048575 rows and 20 columns.\n"
     ]
    }
   ],
   "source": [
    "print(f\"\\nDataset has {df.shape[0]} rows and {df.shape[1]} columns.\")"
   ]
  },
  {
   "cell_type": "code",
   "execution_count": 224,
   "id": "48ace8a7-1210-4ee1-9956-d68f028e72af",
   "metadata": {},
   "outputs": [
    {
     "name": "stdout",
     "output_type": "stream",
     "text": [
      "\n",
      "Missing values per column:\n",
      "pin                                       0\n",
      "year                                      0\n",
      "township_code                             0\n",
      "neighborhood_code                         0\n",
      "class                                     0\n",
      "sale_date                                 0\n",
      "is_mydec_date                             0\n",
      "sale_price                                0\n",
      "sale_document_num                         0\n",
      "sale_deed_type                           47\n",
      "mydec_deed_type                     1048369\n",
      "sale_seller_name                     101492\n",
      "is_multisale                              0\n",
      "num_parcels_sale                          0\n",
      "sale_buyer_name                      101176\n",
      "sale_type                              2776\n",
      "sale_filter_same_sale_within_365          0\n",
      "sale_filter_less_than_10k                 0\n",
      "sale_filter_deed_type                     0\n",
      "row_id                                    0\n",
      "dtype: int64\n"
     ]
    }
   ],
   "source": [
    "print(\"\\nMissing values per column:\")\n",
    "print(df.isnull().sum())"
   ]
  },
  {
   "cell_type": "code",
   "execution_count": 225,
   "id": "60891175-981f-4935-8134-2f67adfe1c73",
   "metadata": {},
   "outputs": [
    {
     "name": "stdout",
     "output_type": "stream",
     "text": [
      "\n",
      "Percentage of missing values per column:\n",
      "pin                                  0.00\n",
      "year                                 0.00\n",
      "township_code                        0.00\n",
      "neighborhood_code                    0.00\n",
      "class                                0.00\n",
      "sale_date                            0.00\n",
      "is_mydec_date                        0.00\n",
      "sale_price                           0.00\n",
      "sale_document_num                    0.00\n",
      "sale_deed_type                       0.00\n",
      "mydec_deed_type                     99.98\n",
      "sale_seller_name                     9.68\n",
      "is_multisale                         0.00\n",
      "num_parcels_sale                     0.00\n",
      "sale_buyer_name                      9.65\n",
      "sale_type                            0.26\n",
      "sale_filter_same_sale_within_365     0.00\n",
      "sale_filter_less_than_10k            0.00\n",
      "sale_filter_deed_type                0.00\n",
      "row_id                               0.00\n",
      "dtype: float64\n"
     ]
    }
   ],
   "source": [
    "print(\"\\nPercentage of missing values per column:\")\n",
    "print((df.isnull().mean() * 100).round(2))"
   ]
  },
  {
   "cell_type": "code",
   "execution_count": 226,
   "id": "ea621ae5-c1f7-4d35-8934-c32cf2da77c8",
   "metadata": {},
   "outputs": [
    {
     "name": "stdout",
     "output_type": "stream",
     "text": [
      "Columns in dataset: ['pin', 'year', 'township_code', 'neighborhood_code', 'class', 'sale_date', 'is_mydec_date', 'sale_price', 'sale_document_num', 'sale_deed_type', 'mydec_deed_type', 'sale_seller_name', 'is_multisale', 'num_parcels_sale', 'sale_buyer_name', 'sale_type', 'sale_filter_same_sale_within_365', 'sale_filter_less_than_10k', 'sale_filter_deed_type', 'row_id']\n"
     ]
    }
   ],
   "source": [
    "print(\"Columns in dataset:\", df.columns.tolist())"
   ]
  },
  {
   "cell_type": "code",
   "execution_count": 227,
   "id": "7526bbd7-f047-4cd9-b60b-c49c1d65c176",
   "metadata": {},
   "outputs": [],
   "source": [
    "top5_townships = (\n",
    "    df.groupby(\"township_code\")[\"sale_price\"]\n",
    "      .median()\n",
    "      .sort_values(ascending=False)\n",
    "      .head(5)\n",
    ")"
   ]
  },
  {
   "cell_type": "code",
   "execution_count": 228,
   "id": "a26e9c59-45b1-410f-8226-011925f19db7",
   "metadata": {},
   "outputs": [
    {
     "name": "stdout",
     "output_type": "stream",
     "text": [
      "township_code\n",
      "23    675000.0\n",
      "10    532000.0\n",
      "25    435000.0\n",
      "33    375500.0\n",
      "74    360000.0\n",
      "Name: sale_price, dtype: float64\n"
     ]
    }
   ],
   "source": [
    "print(top5_townships)"
   ]
  },
  {
   "cell_type": "code",
   "execution_count": 229,
   "id": "e0e058cb-3f90-4409-8771-d7fd4bc8da47",
   "metadata": {},
   "outputs": [],
   "source": [
    "lowest5_townships = (\n",
    "    df.groupby(\"township_code\")[\"sale_price\"]\n",
    "      .median()\n",
    "      .sort_values(ascending=True)\n",
    "      .head(5)\n",
    ")"
   ]
  },
  {
   "cell_type": "code",
   "execution_count": 230,
   "id": "ed1f6eee-d2cc-43d9-9ebe-5037efe3e2b4",
   "metadata": {},
   "outputs": [
    {
     "name": "stdout",
     "output_type": "stream",
     "text": [
      "township_code\n",
      "37    107500.0\n",
      "14    115000.0\n",
      "12    120000.0\n",
      "13    140000.0\n",
      "70    140000.0\n",
      "Name: sale_price, dtype: float64\n"
     ]
    }
   ],
   "source": [
    "print(lowest5_townships)"
   ]
  },
  {
   "cell_type": "code",
   "execution_count": 231,
   "id": "87dc6d27-9563-45bd-96d6-0a5cc81436ef",
   "metadata": {},
   "outputs": [],
   "source": [
    "top10_sales = df.nlargest(10, 'sale_price')"
   ]
  },
  {
   "cell_type": "code",
   "execution_count": 232,
   "id": "2c063404-f766-4eae-8217-3607a3746786",
   "metadata": {},
   "outputs": [],
   "source": [
    "top10_years = top10_sales['year']"
   ]
  },
  {
   "cell_type": "code",
   "execution_count": 233,
   "id": "9e55c6a3-77ca-42b1-b514-008cec51fbfa",
   "metadata": {},
   "outputs": [
    {
     "name": "stdout",
     "output_type": "stream",
     "text": [
      "[2007, 2007, 2004, 2007, 2007, 2002, 2006, 2006, 2006, 2006]\n"
     ]
    }
   ],
   "source": [
    "print(top10_years.tolist())"
   ]
  },
  {
   "cell_type": "code",
   "execution_count": 237,
   "id": "f812e0a0-dd0a-407f-8b3e-4c85f0365f7d",
   "metadata": {},
   "outputs": [],
   "source": [
    "min_year = df['year'].min()"
   ]
  },
  {
   "cell_type": "code",
   "execution_count": 238,
   "id": "5f79774d-6347-4b0c-b710-42679381b8d2",
   "metadata": {},
   "outputs": [],
   "source": [
    "max_year = df['year'].max()"
   ]
  },
  {
   "cell_type": "code",
   "execution_count": 240,
   "id": "67c6c0c2-ca85-4225-81d6-dc440066c608",
   "metadata": {},
   "outputs": [
    {
     "name": "stdout",
     "output_type": "stream",
     "text": [
      " 1971 to 2024.\n"
     ]
    }
   ],
   "source": [
    "print(f\" {min_year} to {max_year}.\")"
   ]
  },
  {
   "cell_type": "code",
   "execution_count": 247,
   "id": "46e948d3-286c-42d1-87c8-d7dfe19cfb93",
   "metadata": {},
   "outputs": [],
   "source": [
    "township_mapping = {\n",
    "    1: \"Barrington\", 2: \"Berkeley\", 3: \"Berwyn\", 4: \"Bloom\", 5: \"Bremen\",\n",
    "    6: \"Calumet\", 7: \"Cicero\", 8: \"Elk Grove\", 9: \"Evanston\", 10: \"Hanover\",\n",
    "    11: \"Lemont\", 12: \"Leyden\", 13: \"Lyons\", 14: \"Maine\", 15: \"Norwood Park\",\n",
    "    16: \"Northfield\", 17: \"Niles\", 18: \"New Trier\", 19: \"Palatine\", 20: \"Proviso\",\n",
    "    21: \"Re-go (or Ridge)\", 22: \"River Forest\", 23: \"Riverside\", 24: \"Schaumburg\",\n",
    "    25: \"Stickney\", 26: \"Thornton\", 27: \"Wheeling\", 28: \"Worth\", 29: \"Bloomingdale\",\n",
    "    30: \"Addison\", 31: \"Elk Grove\", 32: \"Leyden\", 33: \"Maine\", 34: \"Palatine\",\n",
    "    35: \"Hanover\", 36: \"New Trier\", 37: \"Northfield\", 38: \"Niles\", 39: \"Proviso\",\n",
    "    40: \"River Forest\"\n",
    "}"
   ]
  },
  {
   "cell_type": "code",
   "execution_count": 252,
   "id": "a1a41d85-cbc1-425e-82d0-7c87fe64dd21",
   "metadata": {},
   "outputs": [],
   "source": [
    "df['Township_Name'] = df['township_code'].map(township_mapping)"
   ]
  },
  {
   "cell_type": "code",
   "execution_count": 255,
   "id": "b4605716-ee0a-4c9c-8bc2-1fe0b72b1427",
   "metadata": {
    "scrolled": true
   },
   "outputs": [
    {
     "name": "stdout",
     "output_type": "stream",
     "text": [
      "Top 5 townships by median sale price:\n",
      "Township_Name\n",
      "Riverside     675000.0\n",
      "Stickney      435000.0\n",
      "Schaumburg    315000.0\n",
      "Thornton      310500.0\n",
      "Palatine      297692.0\n",
      "Name: sale_price, dtype: float64\n"
     ]
    }
   ],
   "source": [
    "top5_median = df.groupby('Township_Name')['sale_price'].median().sort_values(ascending=False).head(5)\n",
    "print(\"Top 5 townships by median sale price:\")\n",
    "print(top5_median)"
   ]
  },
  {
   "cell_type": "code",
   "execution_count": 257,
   "id": "ea5ecbe4-2e20-432c-9500-f8686f3a3e43",
   "metadata": {},
   "outputs": [],
   "source": [
    "unique_codes = df['township_code'].nunique()"
   ]
  },
  {
   "cell_type": "code",
   "execution_count": 259,
   "id": "aeb27860-ed60-40d2-8d6a-ddf390ee4c0d",
   "metadata": {},
   "outputs": [
    {
     "name": "stdout",
     "output_type": "stream",
     "text": [
      "38\n"
     ]
    }
   ],
   "source": [
    "print(f\"{unique_codes}\")"
   ]
  },
  {
   "cell_type": "code",
   "execution_count": 261,
   "id": "e5854697-4e22-4be6-912e-cce8343b4235",
   "metadata": {},
   "outputs": [],
   "source": [
    "# Redone using only 2024 data"
   ]
  },
  {
   "cell_type": "code",
   "execution_count": 265,
   "id": "d72cdef8-e48c-4b34-8b05-1b0cb70466d4",
   "metadata": {},
   "outputs": [],
   "source": [
    "df_2024 = df[df['year'] == 2024]"
   ]
  },
  {
   "cell_type": "code",
   "execution_count": 267,
   "id": "33893f67-acfa-4da4-a256-315b9fa99a33",
   "metadata": {},
   "outputs": [
    {
     "name": "stdout",
     "output_type": "stream",
     "text": [
      "Number of records in 2024: 193\n",
      "               pin  year  township_code  neighborhood_code class  \\\n",
      "2378  1.709410e+13  2024             74              74030   299   \n",
      "5542  1.704200e+13  2024             74              74011   315   \n",
      "6005  1.515420e+13  2024             31              31034   517   \n",
      "6279  1.321300e+13  2024             71              71171   590   \n",
      "6987  3.126300e+13  2024             32              32045    EX   \n",
      "\n",
      "              sale_date  is_mydec_date  sale_price  sale_document_num  \\\n",
      "2378    January 18 2024           True      530000         2402413376   \n",
      "5542    October 10 2024           True     8300000         2430324045   \n",
      "6005  September 18 2024           True      300000         2427128233   \n",
      "6279      March 26 2024           True     2400000         2409409015   \n",
      "6987   November 12 2024           True      151888         2433824102   \n",
      "\n",
      "     sale_deed_type  ... sale_seller_name is_multisale  num_parcels_sale  \\\n",
      "2378       Warranty  ...              NaN         True                 3   \n",
      "5542       Warranty  ...              NaN         True                 3   \n",
      "6005          Other  ...              NaN         True                 2   \n",
      "6279       Warranty  ...              NaN         True                 6   \n",
      "6987          Other  ...              NaN         True                 8   \n",
      "\n",
      "      sale_buyer_name sale_type sale_filter_same_sale_within_365  \\\n",
      "2378              NaN       NaN                            False   \n",
      "5542              NaN       NaN                            False   \n",
      "6005              NaN       NaN                            False   \n",
      "6279              NaN       NaN                            False   \n",
      "6987              NaN       NaN                            False   \n",
      "\n",
      "      sale_filter_less_than_10k  sale_filter_deed_type   row_id  Township_Name  \n",
      "2378                      False                  False  7575764            NaN  \n",
      "5542                      False                  False  7667115            NaN  \n",
      "6005                      False                  False  7661736      Elk Grove  \n",
      "6279                      False                  False  7600852            NaN  \n",
      "6987                      False                  False  7688138         Leyden  \n",
      "\n",
      "[5 rows x 21 columns]\n"
     ]
    }
   ],
   "source": [
    "print(f\"Number of records in 2024: {df_2024.shape[0]}\")\n",
    "print(df_2024.head())"
   ]
  },
  {
   "cell_type": "code",
   "execution_count": 282,
   "id": "db38faba-2d81-438d-902d-a167b83a1a6b",
   "metadata": {},
   "outputs": [],
   "source": [
    "top5_2024 = df_2024.groupby('township_code')['sale_price'].median().sort_values(ascending=False).head(5)"
   ]
  },
  {
   "cell_type": "code",
   "execution_count": 284,
   "id": "7c99c530-9e37-47b0-8751-23425ebbaf52",
   "metadata": {},
   "outputs": [
    {
     "name": "stdout",
     "output_type": "stream",
     "text": [
      "township_code\n",
      "75    3022500.0\n",
      "23    2725000.0\n",
      "19    1495000.0\n",
      "20    1190500.0\n",
      "10    1175000.0\n",
      "Name: sale_price, dtype: float64\n"
     ]
    }
   ],
   "source": [
    "print(top5_2024)"
   ]
  },
  {
   "cell_type": "code",
   "execution_count": 288,
   "id": "67f620ed-1ff6-415d-829b-07e38d49a28c",
   "metadata": {},
   "outputs": [],
   "source": [
    "bottom5_2024 = df_2024.groupby('township_code')['sale_price'].median().sort_values(ascending=True).head(5)"
   ]
  },
  {
   "cell_type": "code",
   "execution_count": 290,
   "id": "fc3f6183-2611-4d5a-8ad4-52e74689ab79",
   "metadata": {},
   "outputs": [
    {
     "name": "stdout",
     "output_type": "stream",
     "text": [
      "township_code\n",
      "12      5000.0\n",
      "39    170450.0\n",
      "13    187000.0\n",
      "32    200000.0\n",
      "16    202500.5\n",
      "Name: sale_price, dtype: float64\n"
     ]
    }
   ],
   "source": [
    "print(bottom5_2024)"
   ]
  },
  {
   "cell_type": "code",
   "execution_count": 298,
   "id": "9bef3e42-c0a8-4df2-8695-d1147cbe6431",
   "metadata": {},
   "outputs": [],
   "source": [
    "df_2024 = df[df['year'] == 2024]\n",
    "unique_codes_2024 = df_2024['township_code'].nunique()"
   ]
  },
  {
   "cell_type": "code",
   "execution_count": 300,
   "id": "6fe41679-8e42-48b6-9f14-877ee580555a",
   "metadata": {},
   "outputs": [
    {
     "name": "stdout",
     "output_type": "stream",
     "text": [
      "31\n"
     ]
    }
   ],
   "source": [
    "print(f\"{unique_codes_2024}\")"
   ]
  },
  {
   "cell_type": "code",
   "execution_count": 303,
   "id": "842ac84a-2aa0-41b4-a072-1c7a9d1e436e",
   "metadata": {},
   "outputs": [],
   "source": [
    "top10_sales_2024 = df_2024.nlargest(10, 'sale_price')[['township_code', 'sale_price', 'year']]"
   ]
  },
  {
   "cell_type": "code",
   "execution_count": 306,
   "id": "7f03bb94-bf35-4233-b615-d0c259193a2f",
   "metadata": {},
   "outputs": [
    {
     "name": "stdout",
     "output_type": "stream",
     "text": [
      "        township_code  sale_price  year\n",
      "225902             74    85200000  2024\n",
      "225871             74    30400000  2024\n",
      "47751              74    20960500  2024\n",
      "75548              77    10500000  2024\n",
      "189332             70     8500000  2024\n",
      "5542               74     8300000  2024\n",
      "82159              77     7140000  2024\n",
      "14108              70     6500000  2024\n",
      "225879             70     6500000  2024\n",
      "225893             70     6500000  2024\n"
     ]
    }
   ],
   "source": [
    "print(top10_sales_2024)"
   ]
  },
  {
   "cell_type": "code",
   "execution_count": null,
   "id": "d5c41758-35d4-4982-b69d-958be4c5af19",
   "metadata": {},
   "outputs": [],
   "source": []
  }
 ],
 "metadata": {
  "kernelspec": {
   "display_name": "Python 3 (ipykernel)",
   "language": "python",
   "name": "python3"
  },
  "language_info": {
   "codemirror_mode": {
    "name": "ipython",
    "version": 3
   },
   "file_extension": ".py",
   "mimetype": "text/x-python",
   "name": "python",
   "nbconvert_exporter": "python",
   "pygments_lexer": "ipython3",
   "version": "3.12.4"
  }
 },
 "nbformat": 4,
 "nbformat_minor": 5
}
