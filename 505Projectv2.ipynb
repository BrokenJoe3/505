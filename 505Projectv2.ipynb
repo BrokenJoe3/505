{
 "cells": [
  {
   "cell_type": "code",
   "execution_count": 19,
   "id": "984d9d0e-cd9a-4901-9ce7-e87b4556f6a7",
   "metadata": {},
   "outputs": [],
   "source": [
    "import pandas as pd"
   ]
  },
  {
   "cell_type": "code",
   "execution_count": 21,
   "id": "05558750-a127-47fe-83e3-ba747b57af51",
   "metadata": {},
   "outputs": [],
   "source": [
    "df = pd.read_csv(\"Assessor_Parcel_Sales.csv\")"
   ]
  },
  {
   "cell_type": "code",
   "execution_count": 23,
   "id": "900c412e-9252-41c7-bea4-6458a852b641",
   "metadata": {},
   "outputs": [
    {
     "name": "stdout",
     "output_type": "stream",
     "text": [
      "Dataset preview:\n",
      "            pin  year  township_code  neighborhood_code class  \\\n",
      "0  3.101210e+13  2000             32              32050   278   \n",
      "1  1.429100e+13  2000             73              73150   299   \n",
      "2  1.316410e+13  2000             71              71101   203   \n",
      "3  2.423300e+13  2014             39              39250   100   \n",
      "4  1.935400e+13  2016             72              72200   205   \n",
      "\n",
      "          sale_date  is_mydec_date  sale_price  sale_document_num  \\\n",
      "0     April 01 2000          False      177500             317676   \n",
      "1  February 01 2000          False      315000             326770   \n",
      "2      June 01 2000          False      192000             519440   \n",
      "3      June 01 2014          False         500         1427529079   \n",
      "4    August 01 2016          False           1         1625129009   \n",
      "\n",
      "  sale_deed_type mydec_deed_type sale_seller_name  is_multisale  \\\n",
      "0        Trustee             NaN              NaN         False   \n",
      "1       Warranty             NaN              NaN         False   \n",
      "2       Warranty             NaN              NaN         False   \n",
      "3          Other             NaN          US BANK         False   \n",
      "4       Warranty             NaN              NaN          True   \n",
      "\n",
      "   num_parcels_sale     sale_buyer_name          sale_type  \\\n",
      "0                 1                 NaN  LAND AND BUILDING   \n",
      "1                 1                 NaN  LAND AND BUILDING   \n",
      "2                 1                 NaN  LAND AND BUILDING   \n",
      "3                 1  MY OWN DOMINION LP               LAND   \n",
      "4                 5                 NaN  LAND AND BUILDING   \n",
      "\n",
      "   sale_filter_same_sale_within_365  sale_filter_less_than_10k  \\\n",
      "0                             False                      False   \n",
      "1                             False                      False   \n",
      "2                             False                      False   \n",
      "3                             False                       True   \n",
      "4                              True                       True   \n",
      "\n",
      "   sale_filter_deed_type    row_id  \n",
      "0                  False  96289215  \n",
      "1                  False  97142869  \n",
      "2                  False  96585660  \n",
      "3                  False  96639542  \n",
      "4                  False  98154864  \n"
     ]
    }
   ],
   "source": [
    "print(\"Dataset preview:\")\n",
    "print(df.head())"
   ]
  },
  {
   "cell_type": "code",
   "execution_count": 25,
   "id": "07a3dd2f-568c-4597-8d30-5dc7c32c6c65",
   "metadata": {},
   "outputs": [
    {
     "name": "stdout",
     "output_type": "stream",
     "text": [
      "\n",
      "Dataset has 1048575 rows and 20 columns.\n"
     ]
    }
   ],
   "source": [
    "print(f\"\\nDataset has {df.shape[0]} rows and {df.shape[1]} columns.\")"
   ]
  },
  {
   "cell_type": "code",
   "execution_count": 27,
   "id": "48ace8a7-1210-4ee1-9956-d68f028e72af",
   "metadata": {},
   "outputs": [
    {
     "name": "stdout",
     "output_type": "stream",
     "text": [
      "\n",
      "Missing values per column:\n",
      "pin                                       0\n",
      "year                                      0\n",
      "township_code                             0\n",
      "neighborhood_code                         0\n",
      "class                                     0\n",
      "sale_date                                 0\n",
      "is_mydec_date                             0\n",
      "sale_price                                0\n",
      "sale_document_num                         0\n",
      "sale_deed_type                           47\n",
      "mydec_deed_type                     1048369\n",
      "sale_seller_name                     101492\n",
      "is_multisale                              0\n",
      "num_parcels_sale                          0\n",
      "sale_buyer_name                      101176\n",
      "sale_type                              2776\n",
      "sale_filter_same_sale_within_365          0\n",
      "sale_filter_less_than_10k                 0\n",
      "sale_filter_deed_type                     0\n",
      "row_id                                    0\n",
      "dtype: int64\n"
     ]
    }
   ],
   "source": [
    "print(\"\\nMissing values per column:\")\n",
    "print(df.isnull().sum())"
   ]
  },
  {
   "cell_type": "code",
   "execution_count": 29,
   "id": "60891175-981f-4935-8134-2f67adfe1c73",
   "metadata": {},
   "outputs": [
    {
     "name": "stdout",
     "output_type": "stream",
     "text": [
      "\n",
      "Percentage of missing values per column:\n",
      "pin                                  0.00\n",
      "year                                 0.00\n",
      "township_code                        0.00\n",
      "neighborhood_code                    0.00\n",
      "class                                0.00\n",
      "sale_date                            0.00\n",
      "is_mydec_date                        0.00\n",
      "sale_price                           0.00\n",
      "sale_document_num                    0.00\n",
      "sale_deed_type                       0.00\n",
      "mydec_deed_type                     99.98\n",
      "sale_seller_name                     9.68\n",
      "is_multisale                         0.00\n",
      "num_parcels_sale                     0.00\n",
      "sale_buyer_name                      9.65\n",
      "sale_type                            0.26\n",
      "sale_filter_same_sale_within_365     0.00\n",
      "sale_filter_less_than_10k            0.00\n",
      "sale_filter_deed_type                0.00\n",
      "row_id                               0.00\n",
      "dtype: float64\n"
     ]
    }
   ],
   "source": [
    "print(\"\\nPercentage of missing values per column:\")\n",
    "print((df.isnull().mean() * 100).round(2))"
   ]
  },
  {
   "cell_type": "code",
   "execution_count": 31,
   "id": "ea621ae5-c1f7-4d35-8934-c32cf2da77c8",
   "metadata": {},
   "outputs": [
    {
     "name": "stdout",
     "output_type": "stream",
     "text": [
      "Columns in dataset: ['pin', 'year', 'township_code', 'neighborhood_code', 'class', 'sale_date', 'is_mydec_date', 'sale_price', 'sale_document_num', 'sale_deed_type', 'mydec_deed_type', 'sale_seller_name', 'is_multisale', 'num_parcels_sale', 'sale_buyer_name', 'sale_type', 'sale_filter_same_sale_within_365', 'sale_filter_less_than_10k', 'sale_filter_deed_type', 'row_id']\n"
     ]
    }
   ],
   "source": [
    "print(\"Columns in dataset:\", df.columns.tolist())"
   ]
  },
  {
   "cell_type": "code",
   "execution_count": 35,
   "id": "7526bbd7-f047-4cd9-b60b-c49c1d65c176",
   "metadata": {},
   "outputs": [],
   "source": [
    "top5_townships = (\n",
    "    df.groupby(\"township_code\")[\"sale_price\"]\n",
    "      .median()\n",
    "      .sort_values(ascending=False)\n",
    "      .head(5)\n",
    ")"
   ]
  },
  {
   "cell_type": "code",
   "execution_count": 37,
   "id": "a26e9c59-45b1-410f-8226-011925f19db7",
   "metadata": {},
   "outputs": [
    {
     "name": "stdout",
     "output_type": "stream",
     "text": [
      "township_code\n",
      "23    675000.0\n",
      "10    532000.0\n",
      "25    435000.0\n",
      "33    375500.0\n",
      "74    360000.0\n",
      "Name: sale_price, dtype: float64\n"
     ]
    }
   ],
   "source": [
    "print(top5_townships)"
   ]
  },
  {
   "cell_type": "code",
   "execution_count": 39,
   "id": "e0e058cb-3f90-4409-8771-d7fd4bc8da47",
   "metadata": {},
   "outputs": [],
   "source": [
    "lowest5_townships = (\n",
    "    df.groupby(\"township_code\")[\"sale_price\"]\n",
    "      .median()\n",
    "      .sort_values(ascending=True)\n",
    "      .head(5)\n",
    ")"
   ]
  },
  {
   "cell_type": "code",
   "execution_count": 41,
   "id": "ed1f6eee-d2cc-43d9-9ebe-5037efe3e2b4",
   "metadata": {},
   "outputs": [
    {
     "name": "stdout",
     "output_type": "stream",
     "text": [
      "township_code\n",
      "37    107500.0\n",
      "14    115000.0\n",
      "12    120000.0\n",
      "13    140000.0\n",
      "70    140000.0\n",
      "Name: sale_price, dtype: float64\n"
     ]
    }
   ],
   "source": [
    "print(lowest5_townships)"
   ]
  },
  {
   "cell_type": "code",
   "execution_count": 45,
   "id": "87dc6d27-9563-45bd-96d6-0a5cc81436ef",
   "metadata": {},
   "outputs": [],
   "source": [
    "top10_sales = df.nlargest(10, 'sale_price')"
   ]
  },
  {
   "cell_type": "code",
   "execution_count": 47,
   "id": "2c063404-f766-4eae-8217-3607a3746786",
   "metadata": {},
   "outputs": [],
   "source": [
    "top10_years = top10_sales['year']"
   ]
  },
  {
   "cell_type": "code",
   "execution_count": 49,
   "id": "9e55c6a3-77ca-42b1-b514-008cec51fbfa",
   "metadata": {},
   "outputs": [
    {
     "name": "stdout",
     "output_type": "stream",
     "text": [
      "[2007, 2007, 2004, 2007, 2007, 2002, 2006, 2006, 2006, 2006]\n"
     ]
    }
   ],
   "source": [
    "print(top10_years.tolist())"
   ]
  },
  {
   "cell_type": "code",
   "execution_count": 51,
   "id": "f812e0a0-dd0a-407f-8b3e-4c85f0365f7d",
   "metadata": {},
   "outputs": [],
   "source": [
    "min_year = df['year'].min()"
   ]
  },
  {
   "cell_type": "code",
   "execution_count": 53,
   "id": "5f79774d-6347-4b0c-b710-42679381b8d2",
   "metadata": {},
   "outputs": [],
   "source": [
    "max_year = df['year'].max()"
   ]
  },
  {
   "cell_type": "code",
   "execution_count": 55,
   "id": "67c6c0c2-ca85-4225-81d6-dc440066c608",
   "metadata": {},
   "outputs": [
    {
     "name": "stdout",
     "output_type": "stream",
     "text": [
      " 1971 to 2024.\n"
     ]
    }
   ],
   "source": [
    "print(f\" {min_year} to {max_year}.\")"
   ]
  },
  {
   "cell_type": "code",
   "execution_count": 57,
   "id": "46e948d3-286c-42d1-87c8-d7dfe19cfb93",
   "metadata": {},
   "outputs": [],
   "source": [
    "township_mapping = {\n",
    "    1: \"Barrington\", 2: \"Berkeley\", 3: \"Berwyn\", 4: \"Bloom\", 5: \"Bremen\",\n",
    "    6: \"Calumet\", 7: \"Cicero\", 8: \"Elk Grove\", 9: \"Evanston\", 10: \"Hanover\",\n",
    "    11: \"Lemont\", 12: \"Leyden\", 13: \"Lyons\", 14: \"Maine\", 15: \"Norwood Park\",\n",
    "    16: \"Northfield\", 17: \"Niles\", 18: \"New Trier\", 19: \"Palatine\", 20: \"Proviso\",\n",
    "    21: \"Re-go (or Ridge)\", 22: \"River Forest\", 23: \"Riverside\", 24: \"Schaumburg\",\n",
    "    25: \"Stickney\", 26: \"Thornton\", 27: \"Wheeling\", 28: \"Worth\", 29: \"Bloomingdale\",\n",
    "    30: \"Addison\", 31: \"Elk Grove\", 32: \"Leyden\", 33: \"Maine\", 34: \"Palatine\",\n",
    "    35: \"Hanover\", 36: \"New Trier\", 37: \"Northfield\", 38: \"Niles\", 39: \"Proviso\",\n",
    "    40: \"River Forest\"\n",
    "}"
   ]
  },
  {
   "cell_type": "code",
   "execution_count": 61,
   "id": "a1a41d85-cbc1-425e-82d0-7c87fe64dd21",
   "metadata": {},
   "outputs": [],
   "source": [
    "df['Township_Name'] = df['township_code'].map(township_mapping)"
   ]
  },
  {
   "cell_type": "code",
   "execution_count": 65,
   "id": "b4605716-ee0a-4c9c-8bc2-1fe0b72b1427",
   "metadata": {},
   "outputs": [
    {
     "name": "stdout",
     "output_type": "stream",
     "text": [
      "Top 5 townships by median sale price:\n",
      "Township_Name\n",
      "Riverside     675000.0\n",
      "Stickney      435000.0\n",
      "Schaumburg    315000.0\n",
      "Thornton      310500.0\n",
      "Palatine      297692.0\n",
      "Name: sale_price, dtype: float64\n"
     ]
    }
   ],
   "source": [
    "top5_median = df.groupby('Township_Name')['sale_price'].median().sort_values(ascending=False).head(5)\n",
    "print(\"Top 5 townships by median sale price:\")\n",
    "print(top5_median)"
   ]
  },
  {
   "cell_type": "code",
   "execution_count": 69,
   "id": "ea5ecbe4-2e20-432c-9500-f8686f3a3e43",
   "metadata": {},
   "outputs": [],
   "source": [
    "unique_codes = df['township_code'].nunique()"
   ]
  },
  {
   "cell_type": "code",
   "execution_count": 71,
   "id": "aeb27860-ed60-40d2-8d6a-ddf390ee4c0d",
   "metadata": {},
   "outputs": [
    {
     "name": "stdout",
     "output_type": "stream",
     "text": [
      "38\n"
     ]
    }
   ],
   "source": [
    "print(f\"{unique_codes}\")"
   ]
  },
  {
   "cell_type": "code",
   "execution_count": null,
   "id": "e5854697-4e22-4be6-912e-cce8343b4235",
   "metadata": {},
   "outputs": [],
   "source": []
  }
 ],
 "metadata": {
  "kernelspec": {
   "display_name": "Python 3 (ipykernel)",
   "language": "python",
   "name": "python3"
  },
  "language_info": {
   "codemirror_mode": {
    "name": "ipython",
    "version": 3
   },
   "file_extension": ".py",
   "mimetype": "text/x-python",
   "name": "python",
   "nbconvert_exporter": "python",
   "pygments_lexer": "ipython3",
   "version": "3.12.4"
  }
 },
 "nbformat": 4,
 "nbformat_minor": 5
}
