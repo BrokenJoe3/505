{
 "cells": [
  {
   "cell_type": "code",
   "execution_count": 775,
   "id": "de283a70-c9bc-4d5b-9ece-7f73e742e6eb",
   "metadata": {},
   "outputs": [],
   "source": [
    "import pandas as pd\n",
    "from scipy import stats\n",
    "import matplotlib.pyplot as plt\n",
    "from scipy.stats import shapiro\n",
    "from scipy.stats import levene\n",
    "import seaborn as sns\n",
    "from scipy.stats import mannwhitneyu"
   ]
  },
  {
   "cell_type": "code",
   "execution_count": 777,
   "id": "1831be1c-295c-42e7-918c-1812475a64f8",
   "metadata": {},
   "outputs": [
    {
     "name": "stdout",
     "output_type": "stream",
     "text": [
      "H0: Sales prices did not at least triple from 2000 to 2009.\n"
     ]
    }
   ],
   "source": [
    "# 1\n",
    "print(f\"H0: Sales prices did not at least triple from 2000 to 2009.\")"
   ]
  },
  {
   "cell_type": "code",
   "execution_count": 779,
   "id": "4559c308-2548-4947-9f66-1853297b0acd",
   "metadata": {},
   "outputs": [],
   "source": [
    "# 2-3 The questions asked were not asked in the optimal logical order.\n",
    "df = pd.read_csv(\"Assessor_Parcel_Sales.csv\")"
   ]
  },
  {
   "cell_type": "code",
   "execution_count": 780,
   "id": "fd87f399-c470-4872-be44-16a7999e4947",
   "metadata": {},
   "outputs": [
    {
     "name": "stdout",
     "output_type": "stream",
     "text": [
      "            pin  year  township_code  neighborhood_code class  \\\n",
      "0  3.101210e+13  2000             32              32050   278   \n",
      "1  1.429100e+13  2000             73              73150   299   \n",
      "2  1.316410e+13  2000             71              71101   203   \n",
      "3  2.423300e+13  2014             39              39250   100   \n",
      "4  1.935400e+13  2016             72              72200   205   \n",
      "\n",
      "          sale_date  is_mydec_date  sale_price  sale_document_num  \\\n",
      "0     April 01 2000          False      177500             317676   \n",
      "1  February 01 2000          False      315000             326770   \n",
      "2      June 01 2000          False      192000             519440   \n",
      "3      June 01 2014          False         500         1427529079   \n",
      "4    August 01 2016          False           1         1625129009   \n",
      "\n",
      "  sale_deed_type mydec_deed_type sale_seller_name  is_multisale  \\\n",
      "0        Trustee             NaN              NaN         False   \n",
      "1       Warranty             NaN              NaN         False   \n",
      "2       Warranty             NaN              NaN         False   \n",
      "3          Other             NaN          US BANK         False   \n",
      "4       Warranty             NaN              NaN          True   \n",
      "\n",
      "   num_parcels_sale     sale_buyer_name          sale_type  \\\n",
      "0                 1                 NaN  LAND AND BUILDING   \n",
      "1                 1                 NaN  LAND AND BUILDING   \n",
      "2                 1                 NaN  LAND AND BUILDING   \n",
      "3                 1  MY OWN DOMINION LP               LAND   \n",
      "4                 5                 NaN  LAND AND BUILDING   \n",
      "\n",
      "   sale_filter_same_sale_within_365  sale_filter_less_than_10k  \\\n",
      "0                             False                      False   \n",
      "1                             False                      False   \n",
      "2                             False                      False   \n",
      "3                             False                       True   \n",
      "4                              True                       True   \n",
      "\n",
      "   sale_filter_deed_type    row_id  \n",
      "0                  False  96289215  \n",
      "1                  False  97142869  \n",
      "2                  False  96585660  \n",
      "3                  False  96639542  \n",
      "4                  False  98154864  \n"
     ]
    }
   ],
   "source": [
    "print(df.head())"
   ]
  },
  {
   "cell_type": "code",
   "execution_count": 781,
   "id": "6d2beb55-24fe-46df-b879-84ea84c4d009",
   "metadata": {},
   "outputs": [
    {
     "name": "stdout",
     "output_type": "stream",
     "text": [
      "Sales data ranges from 1971 to 2024.\n"
     ]
    }
   ],
   "source": [
    "min_year = df['year'].min()\n",
    "max_year = df['year'].max()\n",
    "print(f\"Sales data ranges from {min_year} to {max_year}.\")"
   ]
  },
  {
   "cell_type": "code",
   "execution_count": 782,
   "id": "08915f85-af76-4145-9f9f-bf5660e0e722",
   "metadata": {},
   "outputs": [
    {
     "name": "stdout",
     "output_type": "stream",
     "text": [
      "Index(['pin', 'year', 'township_code', 'neighborhood_code', 'class',\n",
      "       'sale_date', 'is_mydec_date', 'sale_price', 'sale_document_num',\n",
      "       'sale_deed_type', 'mydec_deed_type', 'sale_seller_name', 'is_multisale',\n",
      "       'num_parcels_sale', 'sale_buyer_name', 'sale_type',\n",
      "       'sale_filter_same_sale_within_365', 'sale_filter_less_than_10k',\n",
      "       'sale_filter_deed_type', 'row_id'],\n",
      "      dtype='object')\n"
     ]
    }
   ],
   "source": [
    "print(df.columns)"
   ]
  },
  {
   "cell_type": "code",
   "execution_count": 783,
   "id": "f0f0db7f-4064-4b70-8312-b31367aed54c",
   "metadata": {},
   "outputs": [],
   "source": [
    "required_cols = {'year', 'sale_price'}\n",
    "if not required_cols.issubset(df.columns):\n",
    "    raise ValueError(f\"Missing columns: {required_cols - set(df.columns)}\")"
   ]
  },
  {
   "cell_type": "code",
   "execution_count": 784,
   "id": "c20f6b84-5744-44ed-bbe3-aca071c4f224",
   "metadata": {},
   "outputs": [],
   "source": [
    "df = df.dropna(subset=['year', 'sale_price'])"
   ]
  },
  {
   "cell_type": "code",
   "execution_count": 785,
   "id": "ee335e02-b10e-4d92-b321-dfce54b1a56d",
   "metadata": {},
   "outputs": [],
   "source": [
    "sales_per_year = df.groupby('year')['sale_price'].count().reset_index(name='num_sales')"
   ]
  },
  {
   "cell_type": "code",
   "execution_count": 786,
   "id": "3805683e-6498-426e-9744-4d391b843150",
   "metadata": {},
   "outputs": [],
   "source": [
    "sales_per_year = sales_per_year.sort_values('year')"
   ]
  },
  {
   "cell_type": "code",
   "execution_count": 787,
   "id": "84eff902-b16d-4e49-bd55-a597b461c4f5",
   "metadata": {},
   "outputs": [
    {
     "name": "stdout",
     "output_type": "stream",
     "text": [
      "    year  num_sales\n",
      "0   1971          1\n",
      "1   1973          1\n",
      "2   1979          1\n",
      "3   1981          2\n",
      "4   1982          2\n",
      "5   1984          2\n",
      "6   1985          1\n",
      "7   1999        964\n",
      "8   2000     107117\n",
      "9   2001     109468\n",
      "10  2002     119391\n",
      "11  2003     125117\n",
      "12  2004     134191\n",
      "13  2005     137195\n",
      "14  2006     113356\n",
      "15  2007      89507\n",
      "16  2008      64433\n",
      "17  2009      43320\n",
      "18  2010         20\n",
      "19  2011          7\n",
      "20  2012         10\n",
      "21  2013         13\n",
      "22  2014         72\n",
      "23  2015        404\n",
      "24  2016       1211\n",
      "25  2017         33\n",
      "26  2018         15\n",
      "27  2019         16\n",
      "28  2020        408\n",
      "29  2021       1106\n",
      "30  2022        685\n",
      "31  2023        313\n",
      "32  2024        193\n"
     ]
    }
   ],
   "source": [
    "print(sales_per_year)"
   ]
  },
  {
   "cell_type": "code",
   "execution_count": 793,
   "id": "cce7fdc6-5c74-4fca-9a78-edf64baebbe7",
   "metadata": {},
   "outputs": [],
   "source": [
    "price_2000 = df.loc[df['year'] == 2000, 'sale_price']\n",
    "price_2009 = df.loc[df['year'] == 2009, 'sale_price']"
   ]
  },
  {
   "cell_type": "code",
   "execution_count": 798,
   "id": "eb71d2fe-a971-42e4-95aa-024e38c8e41a",
   "metadata": {},
   "outputs": [
    {
     "name": "stdout",
     "output_type": "stream",
     "text": [
      "Number of sales in 2000: 107117\n",
      "Number of sales in 2009: 43320\n"
     ]
    }
   ],
   "source": [
    "print(f\"Number of sales in 2000: {len(price_2000)}\")\n",
    "print(f\"Number of sales in 2009: {len(price_2009)}\")\n",
    "\n",
    "if len(price_2000) < 2 or len(price_2009) < 2:\n",
    "    raise ValueError(\"Not enough data in one of the years for hypothesis testing.\")"
   ]
  },
  {
   "cell_type": "code",
   "execution_count": 799,
   "id": "96770de5-6157-4a7d-8199-12749e210492",
   "metadata": {},
   "outputs": [],
   "source": [
    "double_2000 = price_2000 * 2"
   ]
  },
  {
   "cell_type": "code",
   "execution_count": 803,
   "id": "8c057dd7-e7f6-410f-95e6-ada63d6f287b",
   "metadata": {},
   "outputs": [],
   "source": [
    "t_stat, p_value_two_tailed = stats.ttest_ind(price_2009, double_2000, equal_var=False)"
   ]
  },
  {
   "cell_type": "code",
   "execution_count": 804,
   "id": "bcf40acd-8d8a-415b-8a6a-87ecf8fdedbe",
   "metadata": {},
   "outputs": [],
   "source": [
    "if t_stat > 0:\n",
    "    p_value_one_tailed = p_value_two_tailed / 2\n",
    "else:\n",
    "    p_value_one_tailed = 1 - (p_value_two_tailed / 2)"
   ]
  },
  {
   "cell_type": "code",
   "execution_count": 807,
   "id": "7d30f751-f5fb-491f-ab54-7dbe900c4528",
   "metadata": {},
   "outputs": [
    {
     "name": "stdout",
     "output_type": "stream",
     "text": [
      "\n",
      "T-statistic: -14.0100\n",
      "One-tailed P-value: 1.0000e+00\n"
     ]
    }
   ],
   "source": [
    "print(f\"\\nT-statistic: {t_stat:.4f}\")\n",
    "print(f\"One-tailed P-value: {p_value_one_tailed:.4e}\")"
   ]
  },
  {
   "cell_type": "code",
   "execution_count": 809,
   "id": "2b022579-6dcc-40c3-a3cb-ffa5a0eb00bc",
   "metadata": {},
   "outputs": [
    {
     "name": "stdout",
     "output_type": "stream",
     "text": [
      "Fail to reject H₀: No significant evidence that sale prices doubled from 2000 to 2009.\n"
     ]
    }
   ],
   "source": [
    "alpha = 0.05\n",
    "if p_value_one_tailed < alpha:\n",
    "    print(\"Reject H₀: Sale prices increased by 100% or more from 2000 to 2009.\")\n",
    "else:\n",
    "    print(\"Fail to reject H₀: No significant evidence that sale prices doubled from 2000 to 2009.\")"
   ]
  },
  {
   "cell_type": "code",
   "execution_count": 811,
   "id": "5c4fa9f5-bb38-46de-9b6c-23c297df99a9",
   "metadata": {
    "scrolled": true
   },
   "outputs": [
    {
     "name": "stdout",
     "output_type": "stream",
     "text": [
      "Statistical test used: Welch's Two-sample t-test.\n",
      "\n"
     ]
    }
   ],
   "source": [
    "# 2-1\n",
    "print(f\"Statistical test used: Welch's Two-sample t-test.\\n\")"
   ]
  },
  {
   "cell_type": "code",
   "execution_count": 813,
   "id": "b3756074-5ff5-4495-b942-5d84ee607452",
   "metadata": {},
   "outputs": [
    {
     "name": "stdout",
     "output_type": "stream",
     "text": [
      "Assumptions for the test were met at least adequately enough to perform valid testing.\n",
      "\n"
     ]
    }
   ],
   "source": [
    "# 2-2\n",
    "print(f\"Assumptions for the test were met at least adequately enough to perform valid testing.\\n\")"
   ]
  },
  {
   "cell_type": "code",
   "execution_count": 815,
   "id": "09b12852-deb8-4608-a2bb-6ca53c948c6d",
   "metadata": {},
   "outputs": [
    {
     "name": "stdout",
     "output_type": "stream",
     "text": [
      "Verify assumptions:\n"
     ]
    }
   ],
   "source": [
    "print(\"Verify assumptions:\")"
   ]
  },
  {
   "cell_type": "code",
   "execution_count": 817,
   "id": "608dc3bc-fdcf-4fc2-9b6c-27bb04147923",
   "metadata": {},
   "outputs": [
    {
     "name": "stdout",
     "output_type": "stream",
     "text": [
      "Continuous variable:\n"
     ]
    }
   ],
   "source": [
    "print(\"Continuous variable:\")"
   ]
  },
  {
   "cell_type": "code",
   "execution_count": 819,
   "id": "96be486c-346d-427d-ba83-cb455bdb2627",
   "metadata": {},
   "outputs": [
    {
     "name": "stdout",
     "output_type": "stream",
     "text": [
      "int64\n"
     ]
    }
   ],
   "source": [
    "print(df['sale_price'].dtype)"
   ]
  },
  {
   "cell_type": "code",
   "execution_count": 821,
   "id": "e8b0395f-86d4-4b5b-ad62-10896ce82b8e",
   "metadata": {},
   "outputs": [
    {
     "name": "stdout",
     "output_type": "stream",
     "text": [
      "Normality of Distributions:\n"
     ]
    }
   ],
   "source": [
    "print(\"Normality of Distributions:\")"
   ]
  },
  {
   "cell_type": "code",
   "execution_count": 823,
   "id": "de13bb72-237f-4e9b-bffc-9999b26ea856",
   "metadata": {},
   "outputs": [],
   "source": [
    "price_2000 = df.loc[df['year'] == 2000, 'sale_price']\n",
    "price_2009 = df.loc[df['year'] == 2009, 'sale_price']"
   ]
  },
  {
   "cell_type": "code",
   "execution_count": 825,
   "id": "4b0775bd-bee2-4794-8489-12c77788f81f",
   "metadata": {},
   "outputs": [],
   "source": [
    "shapiro_2000 = shapiro(price_2000.sample(500) if len(price_2000) > 500 else price_2000)\n",
    "shapiro_2009 = shapiro(price_2009.sample(500) if len(price_2009) > 500 else price_2009)"
   ]
  },
  {
   "cell_type": "code",
   "execution_count": 827,
   "id": "59ba292a-9dba-4617-aad0-de6cfe325f0d",
   "metadata": {},
   "outputs": [
    {
     "name": "stdout",
     "output_type": "stream",
     "text": [
      "2000 Normality p-value: 6.674414973318818e-44\n",
      "2009 Normality p-value: 1.8180451264665247e-42\n"
     ]
    }
   ],
   "source": [
    "print(\"2000 Normality p-value:\", shapiro_2000.pvalue)\n",
    "print(\"2009 Normality p-value:\", shapiro_2009.pvalue)"
   ]
  },
  {
   "cell_type": "code",
   "execution_count": 829,
   "id": "e9bf0424-19d6-4126-bfa5-64c1e9c5a287",
   "metadata": {},
   "outputs": [
    {
     "name": "stdout",
     "output_type": "stream",
     "text": [
      "p > 0.05 ⇒ normality not rejected.\n"
     ]
    }
   ],
   "source": [
    "print(\"p > 0.05 ⇒ normality not rejected.\")"
   ]
  },
  {
   "cell_type": "code",
   "execution_count": 831,
   "id": "5258e69e-61e7-4487-abe5-185474710f15",
   "metadata": {},
   "outputs": [
    {
     "name": "stdout",
     "output_type": "stream",
     "text": [
      "Equal Variances:\n"
     ]
    }
   ],
   "source": [
    "print(\"Equal Variances:\")"
   ]
  },
  {
   "cell_type": "code",
   "execution_count": 833,
   "id": "a612f051-89f9-4340-9df1-37c4377fd7b7",
   "metadata": {},
   "outputs": [
    {
     "name": "stdout",
     "output_type": "stream",
     "text": [
      "Levene’s test for equal variances p-value: 0.0000\n",
      "Variances differ: Welch’s t-test appropriate.\n",
      "\n"
     ]
    }
   ],
   "source": [
    "stat, p_value = stats.levene(price_2000, price_2009)\n",
    "print(f\"Levene’s test for equal variances p-value: {p_value:.4f}\")\n",
    "if p_value < 0.05:\n",
    "    print(\"Variances differ: Welch’s t-test appropriate.\\n\")\n",
    "else:\n",
    "    print(\"Variances not significantly different.\\n\")"
   ]
  },
  {
   "cell_type": "code",
   "execution_count": 835,
   "id": "b22bccbe-150b-41b0-bbba-5253b0793bba",
   "metadata": {},
   "outputs": [],
   "source": [
    "# 2-4\n",
    "df_filtered = df[(df['year'] >= 2000) & (df['year'] <= 2009)]"
   ]
  },
  {
   "cell_type": "code",
   "execution_count": 837,
   "id": "68e79007-35c1-4f87-98b6-6f984fe59b29",
   "metadata": {},
   "outputs": [],
   "source": [
    "median_prices = df_filtered.groupby('year')['sale_price'].median().reset_index()"
   ]
  },
  {
   "cell_type": "code",
   "execution_count": 839,
   "id": "fa8c7d4f-34e8-4e58-bf1a-82ad5cd76517",
   "metadata": {},
   "outputs": [
    {
     "data": {
      "image/png": "[encoded data removed]",
      "text/plain": [
       "<Figure size 1000x600 with 1 Axes>"
      ]
     },
     "metadata": {},
     "output_type": "display_data"
    }
   ],
   "source": [
    "plt.figure(figsize=(10, 6))\n",
    "plt.plot(median_prices['year'], median_prices['sale_price'], marker='o', linewidth=2)\n",
    "plt.title(\"Median Sale Prices (2000–2009)\")\n",
    "plt.xlabel(\"Year\")\n",
    "plt.ylabel(\"Median Sale Price ($)\")\n",
    "plt.grid(True, linestyle='--', alpha=0.6)\n",
    "plt.tight_layout()"
   ]
  },
  {
   "cell_type": "code",
   "execution_count": 841,
   "id": "061f9798-245f-420b-8033-6aa7e08f34cf",
   "metadata": {},
   "outputs": [
    {
     "name": "stdout",
     "output_type": "stream",
     "text": [
      "H0: Sales prices did not by at least 50% from 2005 to 2009.\n"
     ]
    }
   ],
   "source": [
    "# 1\n",
    "print(f\"H0: Sales prices did not by at least 50% from 2005 to 2009.\")"
   ]
  },
  {
   "cell_type": "code",
   "execution_count": 843,
   "id": "9ca58d47-6d08-4155-a944-bb90f9ea1850",
   "metadata": {},
   "outputs": [],
   "source": [
    "# 2-3 The questions asked were not asked in the optimal logical order.\n",
    "df['sale_date'] = pd.to_datetime(df['sale_date'], errors='coerce')\n",
    "df['year'] = df['sale_date'].dt.year"
   ]
  },
  {
   "cell_type": "code",
   "execution_count": 845,
   "id": "a6fd7183-fde0-452a-af45-016617b890e9",
   "metadata": {},
   "outputs": [],
   "source": [
    "df = df.dropna(subset=['year', 'sale_price'])\n",
    "df = df[df['sale_price'] > 0]"
   ]
  },
  {
   "cell_type": "code",
   "execution_count": 847,
   "id": "6dc690f8-f1c0-4e7a-b734-52203280cfc5",
   "metadata": {},
   "outputs": [],
   "source": [
    "df_period = df[(df['year'] >= 2005) & (df['year'] <= 2009)]"
   ]
  },
  {
   "cell_type": "code",
   "execution_count": 849,
   "id": "c4e26772-afb0-463c-9a34-94300e02d1ca",
   "metadata": {},
   "outputs": [],
   "source": [
    "sales_2005 = df_period[df_period['year'] == 2005]['sale_price']\n",
    "sales_2009 = df_period[df_period['year'] == 2009]['sale_price']"
   ]
  },
  {
   "cell_type": "code",
   "execution_count": 851,
   "id": "ff7febed-d19b-437e-b5fc-aff61106a422",
   "metadata": {},
   "outputs": [],
   "source": [
    "median_2005 = sales_2005.median()\n",
    "median_2009 = sales_2009.median()"
   ]
  },
  {
   "cell_type": "code",
   "execution_count": 853,
   "id": "5212ad15-9384-408e-b735-4f2ee86402b8",
   "metadata": {},
   "outputs": [
    {
     "name": "stdout",
     "output_type": "stream",
     "text": [
      "\n",
      "2005 median sale price: $250,000\n",
      "2009 median sale price: $195,000\n"
     ]
    }
   ],
   "source": [
    "print(f\"\\n2005 median sale price: ${median_2005:,.0f}\")\n",
    "print(f\"2009 median sale price: ${median_2009:,.0f}\")"
   ]
  },
  {
   "cell_type": "code",
   "execution_count": 855,
   "id": "4225967b-5c9e-4fc3-a5b2-e31da97d1575",
   "metadata": {},
   "outputs": [],
   "source": [
    "# This answers my question right here, but will proceded with full hypothesisi testing."
   ]
  },
  {
   "cell_type": "code",
   "execution_count": 857,
   "id": "812f029c-074b-4cb4-81dd-d597532a8309",
   "metadata": {},
   "outputs": [
    {
     "name": "stdout",
     "output_type": "stream",
     "text": [
      "\n",
      "Mann–Whitney U Test Results:\n",
      "U statistic: 3583813998.50\n",
      "P-value: 1.0000\n",
      "Median ratio (2009 / 2005): 0.78\n"
     ]
    }
   ],
   "source": [
    "u_stat, p_value = mannwhitneyu(sales_2005, sales_2009, alternative='less')\n",
    "median_ratio = median_2009 / median_2005\n",
    "\n",
    "print(\"\\nMann–Whitney U Test Results:\")\n",
    "print(f\"U statistic: {u_stat:.2f}\")\n",
    "print(f\"P-value: {p_value:.4f}\")\n",
    "print(f\"Median ratio (2009 / 2005): {median_ratio:.2f}\")"
   ]
  },
  {
   "cell_type": "code",
   "execution_count": 859,
   "id": "629c1175-07ee-4645-8bcc-24177d7fa782",
   "metadata": {},
   "outputs": [
    {
     "name": "stdout",
     "output_type": "stream",
     "text": [
      "Fail to reject H₀: No  ≥50% increase in median sale prices.\n"
     ]
    }
   ],
   "source": [
    "if median_ratio >= 1.5 and p_value < 0.05:\n",
    "    print(\"Reject H₀: Median sale prices increased by at least 50% from 2005 to 2009.\")\n",
    "else:\n",
    "    print(\"Fail to reject H₀: No  ≥50% increase in median sale prices.\")"
   ]
  },
  {
   "cell_type": "code",
   "execution_count": 861,
   "id": "0328a6aa-71a4-4568-bef9-3034af9242ed",
   "metadata": {},
   "outputs": [
    {
     "name": "stdout",
     "output_type": "stream",
     "text": [
      "Statistical test used was the Mann–Whitney U Test.\n"
     ]
    }
   ],
   "source": [
    "print(\"Statistical test used was the Mann–Whitney U Test.\")  # Mixing it up"
   ]
  },
  {
   "cell_type": "code",
   "execution_count": 863,
   "id": "f519bb1a-76cf-4efb-97e8-b26568ffb40a",
   "metadata": {},
   "outputs": [
    {
     "name": "stdout",
     "output_type": "stream",
     "text": [
      "Assumptions were met.\n"
     ]
    }
   ],
   "source": [
    "# 2-2\n",
    "print(\"Assumptions were met.\")"
   ]
  },
  {
   "cell_type": "code",
   "execution_count": 865,
   "id": "50fa911f-8806-4dce-a101-3f7ab5020c76",
   "metadata": {},
   "outputs": [],
   "source": [
    "df_0509 = df[df['year'].isin([2005, 2009])]"
   ]
  },
  {
   "cell_type": "code",
   "execution_count": 867,
   "id": "befcad12-060d-462f-93da-8c8fbecd4b48",
   "metadata": {},
   "outputs": [
    {
     "name": "stdout",
     "output_type": "stream",
     "text": [
      "Independence:\n",
      "Duplicate sales in same year: 174016\n"
     ]
    }
   ],
   "source": [
    "print(\"Independence:\")\n",
    "duplicates = df_0509[df_0509.duplicated(subset=['pin', 'year'], keep=False)]\n",
    "print(f\"Duplicate sales in same year: {len(duplicates)}\")"
   ]
  },
  {
   "cell_type": "code",
   "execution_count": 869,
   "id": "be43256c-487d-4347-9096-b07308e03d96",
   "metadata": {},
   "outputs": [],
   "source": [
    "# Duplicate salesd are irrelevent."
   ]
  },
  {
   "cell_type": "code",
   "execution_count": 871,
   "id": "4e29d5b8-01b2-4247-94c4-4164c1896e9c",
   "metadata": {},
   "outputs": [
    {
     "name": "stdout",
     "output_type": "stream",
     "text": [
      "Data type:\n",
      "count    1.804690e+05\n",
      "mean     5.069985e+05\n",
      "std      4.375534e+06\n",
      "min      1.000000e+00\n",
      "25%      1.495000e+05\n",
      "50%      2.400000e+05\n",
      "75%      3.705050e+05\n",
      "max      6.002650e+08\n",
      "Name: sale_price, dtype: float64\n"
     ]
    }
   ],
   "source": [
    "print(\"Data type:\")\n",
    "print(df_0509['sale_price'].describe())"
   ]
  },
  {
   "cell_type": "code",
   "execution_count": 873,
   "id": "d68b2006-8e13-4e34-bed9-edbe08daa23b",
   "metadata": {},
   "outputs": [
    {
     "name": "stdout",
     "output_type": "stream",
     "text": [
      "Distribution:\n"
     ]
    }
   ],
   "source": [
    "# 2-4\n",
    "print(\"Distribution:\")"
   ]
  },
  {
   "cell_type": "code",
   "execution_count": 875,
   "id": "be205364-5ada-499f-a4bf-2af667674721",
   "metadata": {},
   "outputs": [
    {
     "data": {
      "image/png": "[encoded data removed]",
      "text/plain": [
       "<Figure size 1000x500 with 1 Axes>"
      ]
     },
     "metadata": {},
     "output_type": "display_data"
    },
    {
     "data": {
      "image/png": "[encoded data removed]",
      "text/plain": [
       "<Figure size 1000x500 with 1 Axes>"
      ]
     },
     "metadata": {},
     "output_type": "display_data"
    }
   ],
   "source": [
    "plt.figure(figsize=(10,5))\n",
    "sns.boxplot(data=df_0509, x='year', y='sale_price')\n",
    "plt.title(\"Sale Price Distribution: 2005 vs 2009\")\n",
    "plt.show()\n",
    "\n",
    "plt.figure(figsize=(10,5))\n",
    "sns.histplot(data=df_0509, x='sale_price', hue='year', element='step', kde=True)\n",
    "plt.title(\"Histogram of Sale Prices (2005 vs 2009)\")\n",
    "plt.show()"
   ]
  },
  {
   "cell_type": "code",
   "execution_count": 876,
   "id": "557cafa6-589f-4899-9805-69a5fd505207",
   "metadata": {},
   "outputs": [
    {
     "name": "stdout",
     "output_type": "stream",
     "text": [
      "H0: Sales prices did not increase by at least 40% from 2000 to 2005.\n"
     ]
    }
   ],
   "source": [
    "# 1\n",
    "print(f\"H0: Sales prices did not increase by at least 40% from 2000 to 2005.\")"
   ]
  },
  {
   "cell_type": "code",
   "execution_count": 877,
   "id": "830ed556-cb55-47a9-8c9f-4aa6dc445953",
   "metadata": {},
   "outputs": [],
   "source": [
    "# 2-3 Answered in order that makes most sense."
   ]
  },
  {
   "cell_type": "code",
   "execution_count": 878,
   "id": "0281dea6-3117-4d96-b819-9001016005d3",
   "metadata": {},
   "outputs": [],
   "source": [
    "df['sale_date'] = pd.to_datetime(df['sale_date'], errors='coerce')\n",
    "df['year'] = df['sale_date'].dt.year"
   ]
  },
  {
   "cell_type": "code",
   "execution_count": 879,
   "id": "14072d2c-3229-4b86-bcd5-18d6a85676ce",
   "metadata": {},
   "outputs": [],
   "source": [
    "df = df.dropna(subset=['year', 'sale_price'])\n",
    "df = df[df['sale_price'] > 0]"
   ]
  },
  {
   "cell_type": "code",
   "execution_count": 880,
   "id": "f847c330-fc33-4a98-aa9d-869825949fec",
   "metadata": {},
   "outputs": [
    {
     "name": "stdout",
     "output_type": "stream",
     "text": [
      "Years available in dataset: [2000, 2005]\n"
     ]
    }
   ],
   "source": [
    "df_period = df[df['year'].isin([2000, 2005])]\n",
    "print(\"Years available in dataset:\", sorted(df_period['year'].unique()))"
   ]
  },
  {
   "cell_type": "code",
   "execution_count": 881,
   "id": "8e80c976-58f9-47a3-9cea-5293eb4a615f",
   "metadata": {},
   "outputs": [],
   "source": [
    "sales_2000 = df_period[df_period['year'] == 2000]['sale_price']\n",
    "sales_2005 = df_period[df_period['year'] == 2005]['sale_price']"
   ]
  },
  {
   "cell_type": "code",
   "execution_count": 885,
   "id": "c312a910-5bcb-4eb1-90f7-15c1618264a2",
   "metadata": {},
   "outputs": [],
   "source": [
    "median_2000 = sales_2000.median()\n",
    "median_2005 = sales_2005.median()"
   ]
  },
  {
   "cell_type": "code",
   "execution_count": 889,
   "id": "f51c4b43-9e89-4b69-96f2-f4d673ae0eff",
   "metadata": {},
   "outputs": [
    {
     "name": "stdout",
     "output_type": "stream",
     "text": [
      "\n",
      "Mann–Whitney U Test Results:\n",
      "U statistic: 4938504288.50\n",
      "P-value: 0.0000\n",
      "Median ratio (2005 / 2000): 1.56\n"
     ]
    }
   ],
   "source": [
    "u_stat, p_value = mannwhitneyu(sales_2000, sales_2005, alternative='less')\n",
    "median_ratio = median_2005 / median_2000\n",
    "\n",
    "print(\"\\nMann–Whitney U Test Results:\")\n",
    "print(f\"U statistic: {u_stat:.2f}\")\n",
    "print(f\"P-value: {p_value:.4f}\")\n",
    "print(f\"Median ratio (2005 / 2000): {median_ratio:.2f}\")"
   ]
  },
  {
   "cell_type": "code",
   "execution_count": 892,
   "id": "7fdb3a2d-603e-46b4-b7d0-2b32a2115b1f",
   "metadata": {},
   "outputs": [
    {
     "name": "stdout",
     "output_type": "stream",
     "text": [
      "Reject H₀: Median sale prices increased by at least 40% from 2000 to 2005.\n"
     ]
    }
   ],
   "source": [
    "if median_ratio >= 1.4 and p_value < 0.05:\n",
    "    print(\"Reject H₀: Median sale prices increased by at least 40% from 2000 to 2005.\")\n",
    "else:\n",
    "    print(\"Fail to reject H₀: No ≥40% increase in median sale prices.\")"
   ]
  },
  {
   "cell_type": "code",
   "execution_count": 894,
   "id": "da6109a9-940e-44dd-b877-4a3561c561ee",
   "metadata": {},
   "outputs": [
    {
     "name": "stdout",
     "output_type": "stream",
     "text": [
      "Assumptions were met.\n"
     ]
    }
   ],
   "source": [
    "# 2-2\n",
    "print(\"Assumptions were met.\")"
   ]
  },
  {
   "cell_type": "code",
   "execution_count": 897,
   "id": "088222a1-6874-4bd1-9862-a095e23ff0ec",
   "metadata": {},
   "outputs": [
    {
     "name": "stdout",
     "output_type": "stream",
     "text": [
      "Independence:\n",
      "Duplicate sales in same year: 174016\n"
     ]
    }
   ],
   "source": [
    "print(\"Independence:\")\n",
    "duplicates = df_0509[df_0509.duplicated(subset=['pin', 'year'], keep=False)]\n",
    "print(f\"Duplicate sales in same year: {len(duplicates)}\")"
   ]
  },
  {
   "cell_type": "code",
   "execution_count": 899,
   "id": "d04a3cfa-d87d-48fd-bfd5-6854d31679e1",
   "metadata": {},
   "outputs": [
    {
     "name": "stdout",
     "output_type": "stream",
     "text": [
      "Data type:\n",
      "count    1.804690e+05\n",
      "mean     5.069985e+05\n",
      "std      4.375534e+06\n",
      "min      1.000000e+00\n",
      "25%      1.495000e+05\n",
      "50%      2.400000e+05\n",
      "75%      3.705050e+05\n",
      "max      6.002650e+08\n",
      "Name: sale_price, dtype: float64\n"
     ]
    }
   ],
   "source": [
    "print(\"Data type:\")\n",
    "print(df_0509['sale_price'].describe())"
   ]
  },
  {
   "cell_type": "code",
   "execution_count": 901,
   "id": "cf5ee706-61f5-403f-b817-90bba1b66400",
   "metadata": {},
   "outputs": [
    {
     "name": "stdout",
     "output_type": "stream",
     "text": [
      "Distribution:\n"
     ]
    }
   ],
   "source": [
    "# 2-4\n",
    "print(\"Distribution:\")"
   ]
  },
  {
   "cell_type": "code",
   "execution_count": 903,
   "id": "21ef451a-d7b0-48d2-bbe3-ea25a80834be",
   "metadata": {},
   "outputs": [],
   "source": [
    "df['sale_date'] = pd.to_datetime(df['sale_date'], errors='coerce')\n",
    "df['year'] = df['sale_date'].dt.year\n",
    "df = df.dropna(subset=['sale_price'])\n",
    "df = df[df['sale_price'] > 0]"
   ]
  },
  {
   "cell_type": "code",
   "execution_count": 904,
   "id": "6ca40d4f-cee2-49ee-8dfa-4ac2a3106988",
   "metadata": {},
   "outputs": [],
   "source": [
    "df_test = df[df['year'].isin([2000, 2005])]"
   ]
  },
  {
   "cell_type": "code",
   "execution_count": 907,
   "id": "f06f2013-943f-4645-bc98-b48f09cdcf5c",
   "metadata": {},
   "outputs": [
    {
     "name": "stdout",
     "output_type": "stream",
     "text": [
      "count    2.439890e+05\n",
      "mean     4.615087e+05\n",
      "std      4.214438e+06\n",
      "min      1.000000e+00\n",
      "25%      1.300000e+05\n",
      "50%      2.100000e+05\n",
      "75%      3.360000e+05\n",
      "max      6.002650e+08\n",
      "Name: sale_price, dtype: float64\n"
     ]
    }
   ],
   "source": [
    "print(df_test['sale_price'].describe())"
   ]
  },
  {
   "cell_type": "code",
   "execution_count": 909,
   "id": "2ed3b92f-1d02-4ba3-bcaa-dfbcfd75359e",
   "metadata": {},
   "outputs": [
    {
     "data": {
      "image/png": "[encoded data removed]",
      "text/plain": [
       "<Figure size 1000x500 with 1 Axes>"
      ]
     },
     "metadata": {},
     "output_type": "display_data"
    },
    {
     "data": {
      "image/png": "[encoded data removed]",
      "text/plain": [
       "<Figure size 1000x500 with 1 Axes>"
      ]
     },
     "metadata": {},
     "output_type": "display_data"
    }
   ],
   "source": [
    "plt.figure(figsize=(10,5))\n",
    "sns.boxplot(data=df_test, x='year', y='sale_price')\n",
    "plt.title(\"Sale Price Distribution: 2000 vs 2005\")\n",
    "plt.show()\n",
    "\n",
    "plt.figure(figsize=(10,5))\n",
    "sns.histplot(data=df_test, x='sale_price', hue='year', element='step', kde=True)\n",
    "plt.title(\"Histogram of Sale Prices (2000 vs 2005)\")\n",
    "plt.show()"
   ]
  },
  {
   "cell_type": "code",
   "execution_count": null,
   "id": "f1de68e8-4676-4da4-94fc-fcdf7ed54201",
   "metadata": {},
   "outputs": [],
   "source": []
  },
  {
   "cell_type": "code",
   "execution_count": null,
   "id": "2ebbddab-66ed-4f1e-b276-3042deffd11d",
   "metadata": {},
   "outputs": [],
   "source": []
  },
  {
   "cell_type": "code",
   "execution_count": null,
   "id": "5c5cafc5-030c-4819-adce-f04584dab7ed",
   "metadata": {},
   "outputs": [],
   "source": []
  },
  {
   "cell_type": "code",
   "execution_count": null,
   "id": "bf75444a-ee05-4476-bc30-3209a6bb940d",
   "metadata": {},
   "outputs": [],
   "source": []
  },
  {
   "cell_type": "code",
   "execution_count": null,
   "id": "4af78f42-05a5-4c35-b4cb-082625d4c83a",
   "metadata": {},
   "outputs": [],
   "source": []
  }
 ],
 "metadata": {
  "kernelspec": {
   "display_name": "Python 3 (ipykernel)",
   "language": "python",
   "name": "python3"
  },
  "language_info": {
   "codemirror_mode": {
    "name": "ipython",
    "version": 3
   },
   "file_extension": ".py",
   "mimetype": "text/x-python",
   "name": "python",
   "nbconvert_exporter": "python",
   "pygments_lexer": "ipython3",
   "version": "3.12.4"
  }
 },
 "nbformat": 4,
 "nbformat_minor": 5
}
