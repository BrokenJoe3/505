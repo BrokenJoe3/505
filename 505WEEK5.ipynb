{
 "cells": [
  {
   "cell_type": "code",
   "execution_count": 111,
   "id": "6914448b-c449-4988-a379-64622c2275de",
   "metadata": {},
   "outputs": [],
   "source": [
    "import numpy as np\n",
    "import pandas as pd\n",
    "import scipy.stats as stats\n",
    "import statsmodels.api as sm\n",
    "import statsmodels.formula.api as smf\n",
    "from statsmodels.formula.api import ols\n",
    "import matplotlib.pyplot as plt\n",
    "import math\n",
    "from scipy.stats import norm\n",
    "import seaborn as sns"
   ]
  },
  {
   "cell_type": "code",
   "execution_count": 113,
   "id": "91abb855-4292-4bca-95bd-bd659abcb606",
   "metadata": {},
   "outputs": [],
   "source": [
    "# 1a\n",
    "battery = np.array([25.5, 26.1, 26.8, 23.2, 24.2, 28.4, 25.0, 27.8, 27.3, 25.7])\n",
    "mean_batt = np.mean(battery)\n",
    "std_batt = np.std(battery, ddof=1)\n",
    "n = len(battery)"
   ]
  },
  {
   "cell_type": "code",
   "execution_count": 115,
   "id": "6369e78c-b29c-4bea-a2a9-1dbd2e9e535d",
   "metadata": {},
   "outputs": [
    {
     "name": "stdout",
     "output_type": "stream",
     "text": [
      "sample mean = 26.000\n",
      "std = 1.625\n",
      "n = 10\n",
      "t = 1.946\n",
      "one-sided p = 0.0417\n"
     ]
    }
   ],
   "source": [
    "t_stat, p_val_two = stats.ttest_1samp(battery, 25)\n",
    "p_val_one = p_val_two / 2 if t_stat > 0 else 1 - p_val_two/2\n",
    "print(f\"sample mean = {mean_batt:.3f}\") \n",
    "print(f\"std = {std_batt:.3f}\") \n",
    "print(f\"n = {n}\")\n",
    "print(f\"t = {t_stat:.3f}\") \n",
    "print(f\"one-sided p = {p_val_one:.4f}\")"
   ]
  },
  {
   "cell_type": "code",
   "execution_count": 117,
   "id": "76919a0c-21ee-4e26-a4d0-fcc63e137106",
   "metadata": {},
   "outputs": [
    {
     "name": "stdout",
     "output_type": "stream",
     "text": [
      " Conclusion that 5% significance level demonstrates population mean is greater than the hypothesized mean.\n"
     ]
    }
   ],
   "source": [
    "print(f\" Conclusion that 5% significance level demonstrates population mean is greater than the hypothesized mean.\") "
   ]
  },
  {
   "cell_type": "code",
   "execution_count": 119,
   "id": "3e90f278-cc12-482c-a8cd-ce90a3038b9c",
   "metadata": {},
   "outputs": [
    {
     "name": "stdout",
     "output_type": "stream",
     "text": [
      "90% CI for mean:\n",
      "lower: 25.058\n",
      "upper: 26.942\n"
     ]
    }
   ],
   "source": [
    "alpha = 0.10\n",
    "t_crit = stats.t.ppf(1 - alpha/2, n - 1)\n",
    "margin = t_crit * std_batt / np.sqrt(n)\n",
    "ci_lower, ci_upper = mean_batt - margin, mean_batt + margin\n",
    "print(f\"90% CI for mean:\")\n",
    "print(f\"lower: {ci_lower:.3f}\")\n",
    "print(f\"upper: {ci_upper:.3f}\")"
   ]
  },
  {
   "cell_type": "code",
   "execution_count": 121,
   "id": "90f9da00-df7d-46fc-bc53-127cb09028df",
   "metadata": {},
   "outputs": [
    {
     "name": "stdout",
     "output_type": "stream",
     "text": [
      "Tells me hypothesis confirmed, population mean is larger than 25.\n"
     ]
    }
   ],
   "source": [
    "print(f\"Tells me hypothesis confirmed, population mean is larger than 25.\")"
   ]
  },
  {
   "cell_type": "code",
   "execution_count": 123,
   "id": "42721f43-06a5-4d8d-846c-12889e81fee9",
   "metadata": {},
   "outputs": [
    {
     "data": {
      "image/png": "[encoded data removed]",
      "text/plain": [
       "<Figure size 640x480 with 1 Axes>"
      ]
     },
     "metadata": {},
     "output_type": "display_data"
    }
   ],
   "source": [
    "# 1c\n",
    "sm.qqplot(battery, line='s')\n",
    "plt.title(\"Normal Q-Q Plot of Battery Life\")\n",
    "plt.show()"
   ]
  },
  {
   "cell_type": "code",
   "execution_count": 125,
   "id": "88b010e4-bb96-4eb1-ac36-c27e421aa559",
   "metadata": {},
   "outputs": [
    {
     "name": "stdout",
     "output_type": "stream",
     "text": [
      "Conclusion is assumption of normality. Data points along approximately straight line.\n"
     ]
    }
   ],
   "source": [
    "print(f\"Conclusion is assumption of normality. Data points along approximately straight line.\")"
   ]
  },
  {
   "cell_type": "code",
   "execution_count": 127,
   "id": "c1005705-d160-47d3-8a45-f5c6a1035638",
   "metadata": {},
   "outputs": [],
   "source": [
    "# 2a \n",
    "n = 500              \n",
    "x = 65              \n",
    "p_hat = x / n         \n",
    "p0 = 0.08            \n",
    "alpha = 0.10         "
   ]
  },
  {
   "cell_type": "code",
   "execution_count": 129,
   "id": "c339b3c1-5646-4735-b35b-0662cc67562a",
   "metadata": {},
   "outputs": [],
   "source": [
    "se0 = math.sqrt(p0 * (1 - p0) / n)"
   ]
  },
  {
   "cell_type": "code",
   "execution_count": 131,
   "id": "969f3678-0ed7-47c1-a61c-816e22f88fcb",
   "metadata": {},
   "outputs": [],
   "source": [
    "z = (p_hat - p0) / se0\n",
    "p_value = 2 * (1 - norm.cdf(abs(z))) "
   ]
  },
  {
   "cell_type": "code",
   "execution_count": 133,
   "id": "fe4d8ced-40c2-4742-8a4c-b5ed7f75669d",
   "metadata": {},
   "outputs": [
    {
     "name": "stdout",
     "output_type": "stream",
     "text": [
      "  z statistic = 4.121\n",
      "  two-sided p-value = 0.00004\n"
     ]
    }
   ],
   "source": [
    "print(f\"  z statistic = {z:.3f}\")\n",
    "print(f\"  two-sided p-value = {p_value:.5f}\")"
   ]
  },
  {
   "cell_type": "code",
   "execution_count": 135,
   "id": "61485e0c-b5ab-47a4-a2fe-d3b9b67b5d28",
   "metadata": {},
   "outputs": [
    {
     "name": "stdout",
     "output_type": "stream",
     "text": [
      "Reject H0: p ≠ 0.08\n"
     ]
    }
   ],
   "source": [
    "if p_value < alpha:\n",
    "    print(\"Reject H0: p ≠ 0.08\")\n",
    "else:\n",
    "    print(\"Fail to reject H0: p ≠ 0.08\")"
   ]
  },
  {
   "cell_type": "code",
   "execution_count": 137,
   "id": "b1f1953c-57db-4a83-bff4-53f9f467205c",
   "metadata": {},
   "outputs": [],
   "source": [
    "# 2b \n",
    "z_95 = norm.ppf(0.95)   # critical value for 95% one-sided\n",
    "se_hat = math.sqrt(p_hat * (1 - p_hat) / n)\n",
    "upper_bound = p_hat + z_95 * se_hat"
   ]
  },
  {
   "cell_type": "code",
   "execution_count": 139,
   "id": "41eb39a3-125f-4318-a5f1-83296b255853",
   "metadata": {},
   "outputs": [
    {
     "name": "stdout",
     "output_type": "stream",
     "text": [
      "Upper bound = 0.155\n",
      "Interpretation is 95% confident that true process fraction nonconforming is no greater than 15.5%.\n"
     ]
    }
   ],
   "source": [
    "print(f\"Upper bound = {upper_bound:.3f}\")\n",
    "print(f\"Interpretation is 95% confident that true process fraction nonconforming is no greater than {upper_bound*100:.1f}%.\")"
   ]
  },
  {
   "cell_type": "code",
   "execution_count": 141,
   "id": "7ff5ed8a-0139-482d-8c1c-908fbddeef1f",
   "metadata": {},
   "outputs": [
    {
     "name": "stdout",
     "output_type": "stream",
     "text": [
      "There is a mean difference.\n",
      "Mean difference = -0.000417\n"
     ]
    }
   ],
   "source": [
    "# 3\n",
    "micrometer = np.array([0.150,0.151,0.151,0.152,0.151,0.150,0.151,0.153,0.152,0.151,0.151,0.151])\n",
    "vernier   = np.array([0.151,0.150,0.151,0.150,0.151,0.151,0.153,0.155,0.154,0.151,0.150,0.152])\n",
    "diff = micrometer - vernier\n",
    "t_stat3, p_val3 = stats.ttest_rel(micrometer, vernier)\n",
    "print(f\"There is a mean difference.\")\n",
    "print(f\"Mean difference = {np.mean(diff):.6f}\")"
   ]
  },
  {
   "cell_type": "code",
   "execution_count": 143,
   "id": "f11a2a08-817a-4db5-bf56-42359b47a0ad",
   "metadata": {},
   "outputs": [],
   "source": [
    "# 4a\n",
    "flow = [125,125,125,125,125,125,\n",
    "        160,160,160,160,160,160,\n",
    "        200,200,200,200,200,200]"
   ]
  },
  {
   "cell_type": "code",
   "execution_count": 145,
   "id": "f880c8ec-2eb4-4b7c-907b-3d9e67efd6c1",
   "metadata": {},
   "outputs": [],
   "source": [
    "uniformity = [2.7,2.6,4.6,3.2,3.0,3.8,\n",
    "              4.6,4.9,5.0,4.2,3.6,4.2,\n",
    "              4.6,2.9,3.4,3.5,4.1,5.1]"
   ]
  },
  {
   "cell_type": "code",
   "execution_count": 147,
   "id": "564ba6e3-4fb7-45c8-97f8-fcbea1d534be",
   "metadata": {},
   "outputs": [],
   "source": [
    "df = pd.DataFrame({'Flow': flow, 'Uniformity': uniformity})"
   ]
  },
  {
   "cell_type": "code",
   "execution_count": 149,
   "id": "9260f0e1-b3c2-4c6d-9e39-6332f4769cea",
   "metadata": {},
   "outputs": [],
   "source": [
    "model = ols('Uniformity ~ C(Flow)', data=df).fit()\n",
    "anova_table = sm.stats.anova_lm(model, typ=2)"
   ]
  },
  {
   "cell_type": "code",
   "execution_count": 151,
   "id": "e59f2057-cfc7-49ee-b260-50bc10c002ab",
   "metadata": {},
   "outputs": [
    {
     "name": "stdout",
     "output_type": "stream",
     "text": [
      "\n",
      "ANOVA Table:\n",
      "            sum_sq    df         F    PR(>F)\n",
      "C(Flow)   3.647778   2.0  3.585627  0.053365\n",
      "Residual  7.630000  15.0       NaN       NaN\n"
     ]
    }
   ],
   "source": [
    "print(\"\\nANOVA Table:\")\n",
    "print(anova_table)"
   ]
  },
  {
   "cell_type": "code",
   "execution_count": 153,
   "id": "17340c27-beb2-4fce-8a65-9ccecca269c6",
   "metadata": {},
   "outputs": [
    {
     "name": "stderr",
     "output_type": "stream",
     "text": [
      "C:\\Users\\rober\\AppData\\Local\\Temp\\ipykernel_61960\\2957397728.py:2: FutureWarning: Series.__getitem__ treating keys as positions is deprecated. In a future version, integer keys will always be treated as labels (consistent with DataFrame behavior). To access a value by position, use `ser.iloc[pos]`\n",
      "  p_value = anova_table[\"PR(>F)\"][0]\n"
     ]
    }
   ],
   "source": [
    "alpha = 0.05\n",
    "p_value = anova_table[\"PR(>F)\"][0]"
   ]
  },
  {
   "cell_type": "code",
   "execution_count": 155,
   "id": "af4cc557-fb08-4ee9-9c02-a3c4b4acf46e",
   "metadata": {},
   "outputs": [
    {
     "name": "stdout",
     "output_type": "stream",
     "text": [
      "p = 0.0534 ≥ 0.05\n",
      "Fail to reject H0. Flow rate does not significantly affect etch uniformity.\n"
     ]
    }
   ],
   "source": [
    "if p_value < alpha:\n",
    "    print(f\"p = {p_value:.4f} < 0.05\")\n",
    "    print(f\"Reject H0. Flow rate significantly affects etch uniformity.\")\n",
    "else:\n",
    "    print(f\"p = {p_value:.4f} ≥ 0.05\")\n",
    "    print(f\"Fail to reject H0. Flow rate does not significantly affect etch uniformity.\")"
   ]
  },
  {
   "cell_type": "code",
   "execution_count": 157,
   "id": "ffaa39a4-fd3d-40b4-98bc-a1b062847354",
   "metadata": {},
   "outputs": [
    {
     "data": {
      "image/png": "[encoded data removed]",
      "text/plain": [
       "<Figure size 700x500 with 1 Axes>"
      ]
     },
     "metadata": {},
     "output_type": "display_data"
    }
   ],
   "source": [
    "# 4b\n",
    "plt.figure(figsize=(7,5))\n",
    "sns.boxplot(x=\"Flow\", y=\"Uniformity\", data=df)\n",
    "plt.title(\"Boxplot of Etch Uniformity by Flow Rate\")\n",
    "plt.ylabel(\"Etch Uniformity (%)\")\n",
    "plt.xlabel(\"C2F6 Flow Rate\")\n",
    "plt.show()"
   ]
  },
  {
   "cell_type": "code",
   "execution_count": 159,
   "id": "a2bb6dc5-d6fc-48ac-b604-369b2ae59472",
   "metadata": {},
   "outputs": [],
   "source": [
    "residuals = model.resid"
   ]
  },
  {
   "cell_type": "code",
   "execution_count": 161,
   "id": "fd737f05-375b-44b0-8c9e-670d63f8be2b",
   "metadata": {},
   "outputs": [
    {
     "name": "stdout",
     "output_type": "stream",
     "text": [
      "\n",
      "Shapiro-Wilk Test for Normality:\n",
      "W = 0.9605, p = 0.6111\n",
      "p = 0.6111\n"
     ]
    }
   ],
   "source": [
    "shapiro_test = stats.shapiro(residuals)\n",
    "print(\"\\nShapiro-Wilk Test for Normality:\")\n",
    "print(f\"W = {shapiro_test.statistic:.4f}, p = {shapiro_test.pvalue:.4f}\")\n",
    "print(f\"p = {shapiro_test.pvalue:.4f}\")"
   ]
  },
  {
   "cell_type": "code",
   "execution_count": 163,
   "id": "433f6470-9ed3-473a-ba5b-ff227ed633de",
   "metadata": {},
   "outputs": [
    {
     "name": "stdout",
     "output_type": "stream",
     "text": [
      "  Conclusion: Fail to reject H0: Normality assumption seems reasonable.\n"
     ]
    }
   ],
   "source": [
    "if shapiro_test.pvalue > 0.05:\n",
    "    print(\"  Conclusion: Fail to reject H0: Normality assumption seems reasonable.\")\n",
    "else:\n",
    "    print(\"  Conclusion: Reject H0: Non-normality in residuals.\")"
   ]
  },
  {
   "cell_type": "code",
   "execution_count": 165,
   "id": "e0dcc6fc-2c46-4b27-8ad9-555a36cbfe76",
   "metadata": {},
   "outputs": [],
   "source": [
    "# 5a\n",
    "strength = np.array([160,171,175,182,184,181,188,193,195,200])\n",
    "pct_hardwood = np.array([10,15,15,20,20,20,25,25,28,30])"
   ]
  },
  {
   "cell_type": "code",
   "execution_count": 167,
   "id": "1bfdd794-714e-42d7-996a-7c4c9f1dd6fa",
   "metadata": {},
   "outputs": [],
   "source": [
    "data = pd.DataFrame({\n",
    "    \"Strength\": strength,\n",
    "    \"PctHardwood\": pct_hardwood\n",
    "})"
   ]
  },
  {
   "cell_type": "code",
   "execution_count": 169,
   "id": "bd38d739-695a-4a60-893d-71ecd80ae190",
   "metadata": {},
   "outputs": [
    {
     "name": "stdout",
     "output_type": "stream",
     "text": [
      "   Strength  PctHardwood\n",
      "0       160           10\n",
      "1       171           15\n",
      "2       175           15\n",
      "3       182           20\n",
      "4       184           20\n",
      "5       181           20\n",
      "6       188           25\n",
      "7       193           25\n",
      "8       195           28\n",
      "9       200           30\n",
      "\n",
      "\n"
     ]
    }
   ],
   "source": [
    "print(data)\n",
    "print(\"\\n\")"
   ]
  },
  {
   "cell_type": "code",
   "execution_count": 171,
   "id": "b6158bac-feb6-4907-ad2d-bdf2dbf0fb9e",
   "metadata": {},
   "outputs": [
    {
     "name": "stdout",
     "output_type": "stream",
     "text": [
      "                            OLS Regression Results                            \n",
      "==============================================================================\n",
      "Dep. Variable:                      y   R-squared:                       0.970\n",
      "Model:                            OLS   Adj. R-squared:                  0.966\n",
      "Method:                 Least Squares   F-statistic:                     260.0\n",
      "Date:                Thu, 25 Sep 2025   Prob (F-statistic):           2.20e-07\n",
      "Time:                        00:04:35   Log-Likelihood:                -20.973\n",
      "No. Observations:                  10   AIC:                             45.95\n",
      "Df Residuals:                       8   BIC:                             46.55\n",
      "Df Model:                           1                                         \n",
      "Covariance Type:            nonrobust                                         \n",
      "==============================================================================\n",
      "                 coef    std err          t      P>|t|      [0.025      0.975]\n",
      "------------------------------------------------------------------------------\n",
      "const        143.8244      2.522     57.039      0.000     138.010     149.639\n",
      "x1             1.8786      0.117     16.125      0.000       1.610       2.147\n",
      "==============================================================================\n",
      "Omnibus:                        1.211   Durbin-Watson:                   2.132\n",
      "Prob(Omnibus):                  0.546   Jarque-Bera (JB):                0.701\n",
      "Skew:                           0.157   Prob(JB):                        0.704\n",
      "Kurtosis:                       1.742   Cond. No.                         78.5\n",
      "==============================================================================\n",
      "\n",
      "Notes:\n",
      "[1] Standard Errors assume that the covariance matrix of the errors is correctly specified.\n",
      "\n",
      "\n"
     ]
    },
    {
     "name": "stderr",
     "output_type": "stream",
     "text": [
      "C:\\Users\\rober\\anaconda3\\Lib\\site-packages\\scipy\\stats\\_axis_nan_policy.py:531: UserWarning: kurtosistest only valid for n>=20 ... continuing anyway, n=10\n",
      "  res = hypotest_fun_out(*samples, **kwds)\n"
     ]
    }
   ],
   "source": [
    "X = sm.add_constant(pct_hardwood)  \n",
    "model = sm.OLS(strength, X).fit()\n",
    "print(model.summary())\n",
    "print(\"\\n\")"
   ]
  },
  {
   "cell_type": "code",
   "execution_count": 173,
   "id": "e785e820-7d52-4763-86fd-0a938ce7c410",
   "metadata": {},
   "outputs": [
    {
     "name": "stdout",
     "output_type": "stream",
     "text": [
      "p-value for slope (PctHardwood): 0.0000\n",
      "Result: Reject H0. The slope is significant.\n",
      "\n",
      "\n"
     ]
    }
   ],
   "source": [
    "# 5b\n",
    "p_value = model.pvalues[1]  \n",
    "print(f\"p-value for slope (PctHardwood): {p_value:.4f}\")\n",
    "if p_value < 0.05:\n",
    "    print(\"Result: Reject H0. The slope is significant.\")\n",
    "else:\n",
    "    print(\"Result: Fail to reject H0. No significant relationship detected.\")\n",
    "print(\"\\n\")"
   ]
  },
  {
   "cell_type": "code",
   "execution_count": 175,
   "id": "07663f44-f1cf-4052-82ad-1c299128c09a",
   "metadata": {},
   "outputs": [
    {
     "data": {
      "image/png": "[encoded data removed]",
      "text/plain": [
       "<Figure size 640x480 with 1 Axes>"
      ]
     },
     "metadata": {},
     "output_type": "display_data"
    }
   ],
   "source": [
    "# 5c\n",
    "plt.scatter(pct_hardwood, strength, color=\"blue\", label=\"Data points\")\n",
    "plt.plot(pct_hardwood, model.predict(X), color=\"red\", label=\"Regression line\")\n",
    "plt.xlabel(\"Hardwood Percentage\")\n",
    "plt.ylabel(\"Tensile Strength\")\n",
    "plt.title(\"Regression of Tensile Strength on Hardwood Percentage\")\n",
    "plt.legend()\n",
    "plt.show()"
   ]
  },
  {
   "cell_type": "code",
   "execution_count": 177,
   "id": "cb67d4d9-2f43-4c03-b4ce-880383a74101",
   "metadata": {},
   "outputs": [
    {
     "name": "stdout",
     "output_type": "stream",
     "text": [
      "R-squared: 0.970\n",
      "Estimated regression equation: Strength = 143.82 + 1.88 * PctHardwood\n",
      "There is a statistically significant positive relationship between hardwood percentage and strength.\n",
      "The plot shows that as hardwood % increases, tensile strength tends to increase practically linearly.\n"
     ]
    }
   ],
   "source": [
    "# 5d\n",
    "print(f\"R-squared: {model.rsquared:.3f}\")\n",
    "print(f\"Estimated regression equation: Strength = {model.params[0]:.2f} + {model.params[1]:.2f} * PctHardwood\")\n",
    "\n",
    "if p_value < 0.05:\n",
    "    print(\"There is a statistically significant positive relationship between hardwood percentage and strength.\")\n",
    "    print(\"The plot shows that as hardwood % increases, tensile strength tends to increase practically linearly.\")\n",
    "else:\n",
    "    print(\"No significant relationship between hardwood % and tensile strength was detected.\")    "
   ]
  },
  {
   "cell_type": "code",
   "execution_count": null,
   "id": "e2cdf3f5-c188-4ea8-9b41-3facce0efb77",
   "metadata": {},
   "outputs": [],
   "source": []
  },
  {
   "cell_type": "code",
   "execution_count": null,
   "id": "7a585bca-ef1b-4569-a0f3-9db354d63b71",
   "metadata": {},
   "outputs": [],
   "source": []
  },
  {
   "cell_type": "code",
   "execution_count": null,
   "id": "74ab503d-365a-410d-8e89-4218a3355d3b",
   "metadata": {},
   "outputs": [],
   "source": []
  },
  {
   "cell_type": "code",
   "execution_count": null,
   "id": "c7d31593-7166-4cdc-96de-103983726f31",
   "metadata": {},
   "outputs": [],
   "source": []
  }
 ],
 "metadata": {
  "kernelspec": {
   "display_name": "Python 3 (ipykernel)",
   "language": "python",
   "name": "python3"
  },
  "language_info": {
   "codemirror_mode": {
    "name": "ipython",
    "version": 3
   },
   "file_extension": ".py",
   "mimetype": "text/x-python",
   "name": "python",
   "nbconvert_exporter": "python",
   "pygments_lexer": "ipython3",
   "version": "3.12.4"
  }
 },
 "nbformat": 4,
 "nbformat_minor": 5
}
